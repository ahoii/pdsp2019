{
 "cells": [
  {
   "cell_type": "markdown",
   "metadata": {},
   "source": [
    "# Portfolio and Instrument risk assessment package"
   ]
  },
  {
   "cell_type": "code",
   "execution_count": 1,
   "metadata": {},
   "outputs": [],
   "source": [
    "import sys"
   ]
  },
  {
   "cell_type": "code",
   "execution_count": 2,
   "metadata": {},
   "outputs": [
    {
     "data": {
      "text/plain": [
       "['/Users/joak/workspace/pdsp/pdsp2019',\n",
       " '/opt/local/Library/Frameworks/Python.framework/Versions/3.6/lib/python36.zip',\n",
       " '/opt/local/Library/Frameworks/Python.framework/Versions/3.6/lib/python3.6',\n",
       " '/opt/local/Library/Frameworks/Python.framework/Versions/3.6/lib/python3.6/lib-dynload',\n",
       " '/Users/joak/Library/Python/3.6/lib/python/site-packages',\n",
       " '/opt/local/Library/Frameworks/Python.framework/Versions/3.6/lib/python3.6/site-packages',\n",
       " '/Users/joak/Library/Python/3.6/lib/python/site-packages/IPython/extensions',\n",
       " '/Users/joak/.ipython']"
      ]
     },
     "execution_count": 2,
     "metadata": {},
     "output_type": "execute_result"
    }
   ],
   "source": [
    "sys.path[0] = '/Users/joak/workspace/pdsp/pdsp2019'\n",
    "sys.path"
   ]
  },
  {
   "cell_type": "code",
   "execution_count": 3,
   "metadata": {},
   "outputs": [],
   "source": [
    "from ranking import *"
   ]
  },
  {
   "cell_type": "markdown",
   "metadata": {},
   "source": [
    "### Use the portfolio and instrument ranking package to verify if the customer is eligible for new investments"
   ]
  },
  {
   "cell_type": "markdown",
   "metadata": {},
   "source": [
    "#### Get the portfolios and instruments to check"
   ]
  },
  {
   "cell_type": "code",
   "execution_count": 4,
   "metadata": {},
   "outputs": [],
   "source": [
    "intl_pf = {\n",
    "    \"mandator\": \"INTL\", \n",
    "    \"currency\": \"USD\"\n",
    "}\n",
    "\n",
    "eu_pf = {\n",
    "    \"mandator\": \"INTL\", \n",
    "    \"currency\": \"USD\"\n",
    "}\n",
    "\n",
    "eu_pf_with_chf = {\n",
    "    \"mandator\": \"EU\", \n",
    "    \"currency\": \"CHF\"\n",
    "}\n",
    "\n",
    "ch_pf = {\n",
    "    \"mandator\": \"CH\", \n",
    "    \"currency\": \"USD\"\n",
    "}\n"
   ]
  },
  {
   "cell_type": "markdown",
   "metadata": {},
   "source": [
    "#### Check if the portfolios are restricted by regulatory definition"
   ]
  },
  {
   "cell_type": "code",
   "execution_count": 5,
   "metadata": {},
   "outputs": [
    {
     "name": "stdout",
     "output_type": "stream",
     "text": [
      "International mandator portfolio restricted: True\n",
      "European mandator portfolio restricted: True\n",
      "European mandator portfolio with swiss currency restricted: False\n",
      "Swiss mandator portfolio restricted: False\n"
     ]
    }
   ],
   "source": [
    "print(\"International mandator portfolio restricted:\", is_restricted(intl_pf))\n",
    "print(\"European mandator portfolio restricted:\", is_restricted(eu_pf))\n",
    "print(\"European mandator portfolio with swiss currency restricted:\", is_restricted(eu_pf_with_chf))\n",
    "print(\"Swiss mandator portfolio restricted:\", is_restricted(ch_pf))"
   ]
  },
  {
   "cell_type": "code",
   "execution_count": null,
   "metadata": {},
   "outputs": [],
   "source": []
  },
  {
   "cell_type": "markdown",
   "metadata": {},
   "source": [
    "#### Use the portfolios that are now prechecked and not restricted to test for their instruments"
   ]
  },
  {
   "cell_type": "code",
   "execution_count": 6,
   "metadata": {},
   "outputs": [
    {
     "name": "stdout",
     "output_type": "stream",
     "text": [
      "European mandator portfolio with swiss currency: {'mandator': 'EU', 'currency': 'CHF', 'prechecked': True}\n",
      "Swiss mandator portfolio: {'mandator': 'CH', 'currency': 'USD', 'prechecked': True}\n"
     ]
    }
   ],
   "source": [
    "print(\"European mandator portfolio with swiss currency:\", eu_pf_with_chf)\n",
    "print(\"Swiss mandator portfolio:\", ch_pf)"
   ]
  },
  {
   "cell_type": "code",
   "execution_count": 7,
   "metadata": {},
   "outputs": [],
   "source": [
    "eu_pf_with_chf_instr = [\n",
    "    {\"currency\": \"CHF\", \"ignore\":False, \"expired\":False},\n",
    "    {\"currency\": \"EUR\", \"ignore\":True, \"expired\":False},\n",
    "]\n",
    "\n",
    "ch_pf_instr = [\n",
    "    {\"currency\": \"CHF\", \"ignore\":False, \"expired\":False},\n",
    "    {\"currency\": \"EUR\", \"ignore\":False, \"expired\":False},\n",
    "]\n",
    "\n"
   ]
  },
  {
   "cell_type": "markdown",
   "metadata": {},
   "source": [
    "#### Instrument ranking for non swiss client"
   ]
  },
  {
   "cell_type": "code",
   "execution_count": 8,
   "metadata": {},
   "outputs": [
    {
     "name": "stdout",
     "output_type": "stream",
     "text": [
      "Ranking of EU portfolio is 200 and to high for new investments\n"
     ]
    }
   ],
   "source": [
    "ranking = compute_instrument_ranks(eu_pf_with_chf_instr, ch_cl=False)\n",
    "print(\"Ranking of EU portfolio is\", ranking, \"and to high for new investments\")"
   ]
  },
  {
   "cell_type": "markdown",
   "metadata": {},
   "source": [
    "#### Instrument ranking for swiss client"
   ]
  },
  {
   "cell_type": "code",
   "execution_count": 9,
   "metadata": {},
   "outputs": [
    {
     "name": "stdout",
     "output_type": "stream",
     "text": [
      "Ranking of CH portfolio is 7 and eligible for new investments\n"
     ]
    }
   ],
   "source": [
    "ranking = compute_instrument_ranks(ch_pf_instr, ch_cl=True)\n",
    "print(\"Ranking of CH portfolio is\", ranking, \"and eligible for new investments\")"
   ]
  },
  {
   "cell_type": "code",
   "execution_count": null,
   "metadata": {},
   "outputs": [],
   "source": []
  }
 ],
 "metadata": {
  "kernelspec": {
   "display_name": "Python 3",
   "language": "python",
   "name": "python3"
  },
  "language_info": {
   "codemirror_mode": {
    "name": "ipython",
    "version": 3
   },
   "file_extension": ".py",
   "mimetype": "text/x-python",
   "name": "python",
   "nbconvert_exporter": "python",
   "pygments_lexer": "ipython3",
   "version": "3.6.5"
  }
 },
 "nbformat": 4,
 "nbformat_minor": 2
}
